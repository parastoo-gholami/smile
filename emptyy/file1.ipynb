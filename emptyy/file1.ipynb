{
 "cells": [
  {
   "cell_type": "code",
   "execution_count": 1,
   "metadata": {},
   "outputs": [],
   "source": [
    "import cv2\n",
    "import numpy as np\n",
    "from skimage.feature import hog, local_binary_pattern\n",
    "from sklearn import svm\n",
    "from sklearn.model_selection import train_test_split\n",
    "import pickle"
   ]
  },
  {
   "cell_type": "code",
   "execution_count": 2,
   "metadata": {},
   "outputs": [],
   "source": [
    "def HOG_(image):\n",
    "    hog_feature = hog(image, orientations=30, pixels_per_cell=(6, 6), cells_per_block=(1, 1), block_norm='L2-Hys',transform_sqrt=True)\n",
    "    return hog_feature\n",
    "\n",
    "def LBP_(image):\n",
    "    lbp_feature=local_binary_pattern(image,8,1)\n",
    "    hist_lbp, _ = np.histogram(lbp_feature, bins=int(lbp_feature.max() + 1), range=(0,int(lbp_feature.max() + 1)),density=True)\n",
    "    return hist_lbp\n",
    "\n",
    "def GLCM_(image):\n",
    "    glcm = np.zeros((256, 256), dtype=np.uint8)\n",
    "    height, width = image.shape\n",
    "    for i in range(height - 1):\n",
    "        for j in range(width - 1):\n",
    "            p = image[i, j]\n",
    "            q = image[i, j + 1]\n",
    "            glcm[p, q] += 1\n",
    "    glcm = glcm.astype(np.float64)\n",
    "    glcm /= np.sum(glcm)  \n",
    "    contrast = np.sum(np.square(glcm - np.mean(glcm)))\n",
    "    dissimilarity = np.sum(np.abs(glcm - np.mean(glcm)))\n",
    "    homogeneity = np.sum(glcm / (1.0 + np.abs(i - j)))\n",
    "    energy = np.sum(np.square(glcm))\n",
    "    correlation = np.sum(np.divide((i - np.mean(glcm)) * (j - np.mean(glcm)), np.sqrt(np.sum(np.square(i - np.mean(glcm)))) * np.sqrt(np.sum(np.square(j - np.mean(glcm))))))\n",
    "    glcm_feature = np.array([contrast, dissimilarity, homogeneity, energy, correlation])\n",
    "    return glcm_feature"
   ]
  },
  {
   "cell_type": "code",
   "execution_count": 3,
   "metadata": {},
   "outputs": [],
   "source": [
    "name = open(\"C:\\\\Users\\\\ASUS\\\\Desktop\\\\GENKI-R2009a\\\\Subsets\\\\GENKI-4K\\\\GENKI-4K_Images.txt\", \"r\")\n",
    "images = name.read().splitlines()\n",
    "name.close()"
   ]
  },
  {
   "cell_type": "code",
   "execution_count": 4,
   "metadata": {},
   "outputs": [],
   "source": [
    "HOG_features = []\n",
    "LBP_features = []\n",
    "GLCM_features = []\n",
    "for image_path in images:\n",
    "    image = cv2.imread(\"C:\\\\Users\\\\ASUS\\\\Desktop\\\\GENKI-R2009a\\\\files\\\\{}\".format(image_path))\n",
    "    image = cv2.resize(image,(100,100),interpolation=cv2.INTER_AREA)\n",
    "    gray = cv2.cvtColor(image, cv2.COLOR_BGR2GRAY)\n",
    "    hog_feature = HOG_(gray)\n",
    "    HOG_features.append(hog_feature)\n",
    "    lbp_feature = LBP_(gray)\n",
    "    LBP_features.append(lbp_feature)\n",
    "    glcm_feature = GLCM_(gray)\n",
    "    GLCM_features.append(glcm_feature)\n",
    "features=np.concatenate((LBP_features,HOG_features,GLCM_features),axis=1)"
   ]
  },
  {
   "cell_type": "code",
   "execution_count": 5,
   "metadata": {},
   "outputs": [],
   "source": [
    "label = open(\"C:\\\\Users\\\\ASUS\\\\Desktop\\\\GENKI-R2009a\\\\Subsets\\\\GENKI-4K\\\\GENKI-4K_Labels.txt\", \"r\")\n",
    "read_label =label.read().splitlines()\n",
    "label.close()\n",
    "lable_0=[row[0] for row in read_label]\n",
    "labels = [eval(i) for i in lable_0]"
   ]
  },
  {
   "cell_type": "code",
   "execution_count": 6,
   "metadata": {},
   "outputs": [
    {
     "name": "stdout",
     "output_type": "stream",
     "text": [
      "Accuracy: 0.7025\n"
     ]
    }
   ],
   "source": [
    "features_train, features_test, labels_train, labels_test = train_test_split(features, labels, test_size=0.2, random_state=32)\n",
    "\n",
    "clf = svm.SVC()\n",
    "clf.fit(features_train, labels_train)\n",
    "\n",
    "accuracy = clf.score(features_test, labels_test)\n",
    "print(\"Accuracy:\", accuracy)"
   ]
  },
  {
   "cell_type": "code",
   "execution_count": null,
   "metadata": {},
   "outputs": [],
   "source": [
    "features_train, features_test, labels_train, labels_test = train_test_split(features, labels, test_size=0.2, random_state=42)\n",
    "\n",
    "clf = svm.SVC()\n",
    "clf.fit(features_train, labels_train)\n",
    "\n",
    "accuracy = clf.score(features_test, labels_test)\n",
    "print(\"Accuracy:\", accuracy)"
   ]
  },
  {
   "cell_type": "code",
   "execution_count": null,
   "metadata": {},
   "outputs": [],
   "source": [
    "features_train, features_test, labels_train, labels_test = train_test_split(features, labels, test_size=0.2, random_state=62)\n",
    "\n",
    "clf = svm.SVC()\n",
    "clf.fit(features_train, labels_train)\n",
    "\n",
    "accuracy = clf.score(features_test, labels_test)\n",
    "print(\"Accuracy:\", accuracy)"
   ]
  },
  {
   "cell_type": "code",
   "execution_count": null,
   "metadata": {},
   "outputs": [],
   "source": [
    "features_train, features_test, labels_train, labels_test = train_test_split(features, labels, test_size=0.2, random_state=72)\n",
    "\n",
    "clf = svm.SVC()\n",
    "clf.fit(features_train, labels_train)\n",
    "\n",
    "accuracy = clf.score(features_test, labels_test)\n",
    "print(\"Accuracy:\", accuracy)"
   ]
  },
  {
   "cell_type": "code",
   "execution_count": 7,
   "metadata": {},
   "outputs": [],
   "source": [
    "with open(':).pkl','wb') as f:\n",
    "    pickle.dump(clf,f)"
   ]
  },
  {
   "cell_type": "code",
   "execution_count": null,
   "metadata": {},
   "outputs": [],
   "source": []
  }
 ],
 "metadata": {
  "kernelspec": {
   "display_name": "Python 3",
   "language": "python",
   "name": "python3"
  },
  "language_info": {
   "codemirror_mode": {
    "name": "ipython",
    "version": 3
   },
   "file_extension": ".py",
   "mimetype": "text/x-python",
   "name": "python",
   "nbconvert_exporter": "python",
   "pygments_lexer": "ipython3",
   "version": "3.10.9"
  },
  "orig_nbformat": 4
 },
 "nbformat": 4,
 "nbformat_minor": 2
}
