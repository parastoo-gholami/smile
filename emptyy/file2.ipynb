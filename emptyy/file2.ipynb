{
 "cells": [
  {
   "cell_type": "code",
   "execution_count": 1,
   "metadata": {},
   "outputs": [],
   "source": [
    "import cv2\n",
    "import numpy as np\n",
    "from skimage.feature import hog, local_binary_pattern\n",
    "import pickle"
   ]
  },
  {
   "cell_type": "code",
   "execution_count": 2,
   "metadata": {},
   "outputs": [],
   "source": [
    "def HOG_(image):\n",
    "    hog_feature = hog(image, orientations=30, pixels_per_cell=(6, 6), cells_per_block=(1, 1), block_norm='L2-Hys',transform_sqrt=True)\n",
    "    return hog_feature\n",
    "\n",
    "def LBP_(image):\n",
    "    lbp_feature=local_binary_pattern(image,8,1)\n",
    "    hist_lbp, _ = np.histogram(lbp_feature, bins=int(lbp_feature.max() + 1), range=(0,int(lbp_feature.max() + 1)),density=True)\n",
    "    return hist_lbp\n",
    "\n",
    "def GLCM_(image):\n",
    "    glcm = np.zeros((256, 256), dtype=np.uint8)\n",
    "    height, width = image.shape\n",
    "    for i in range(height - 1):\n",
    "        for j in range(width - 1):\n",
    "            p = image[i, j]\n",
    "            q = image[i, j + 1]\n",
    "            glcm[p, q] += 1\n",
    "    glcm = glcm.astype(np.float64)\n",
    "    glcm /= np.sum(glcm)  \n",
    "    contrast = np.sum(np.square(glcm - np.mean(glcm)))\n",
    "    dissimilarity = np.sum(np.abs(glcm - np.mean(glcm)))\n",
    "    homogeneity = np.sum(glcm / (1.0 + np.abs(i - j)))\n",
    "    energy = np.sum(np.square(glcm))\n",
    "    correlation = np.sum(np.divide((i - np.mean(glcm)) * (j - np.mean(glcm)), np.sqrt(np.sum(np.square(i - np.mean(glcm)))) * np.sqrt(np.sum(np.square(j - np.mean(glcm))))))\n",
    "    glcm_feature = np.array([contrast, dissimilarity, homogeneity, energy, correlation])\n",
    "    return glcm_feature"
   ]
  },
  {
   "cell_type": "code",
   "execution_count": null,
   "metadata": {},
   "outputs": [],
   "source": [
    "cap=cv2.VideoCapture(\"C:\\\\Users\\\\ASUS\\\\Desktop\\\\U2.mp4\")\n",
    "facedetector=cv2.CascadeClassifier('C:\\\\Users\\\\ASUS\\\\Desktop\\\\haarcascade_frontalface_default.xml')\n",
    "vwriter=cv2.VideoWriter('out.wmv',cv2.VideoWriter_fourcc(*'WMV1'),20,(640,480))\n",
    "with open('C:\\\\Users\\\\ASUS\\\\Desktop\\\\:).pkl','rb') as f:\n",
    "    clf = pickle.load(f)\n",
    "while(True):\n",
    "    ret,frame=cap.read()\n",
    "    if ret:\n",
    "        gray=cv2.cvtColor(frame,cv2.COLOR_BGR2GRAY)\n",
    "        faces=facedetector.detectMultiScale(gray,1.1,4)\n",
    "        for (x,y,w,h) in faces:\n",
    "            face = cv2.resize(frame, (100, 100), interpolation=cv2.INTER_AREA)\n",
    "            hog_face = []\n",
    "            lbp_face = []\n",
    "            glcm_face = []\n",
    "            hog_face.append(HOG_(face))\n",
    "            lbp_face.append(LBP_(face))\n",
    "            glcm_face.append(GLCM_(face))\n",
    "            test_feature = np.concatenate((hog_face, lbp_face, glcm_face), axis=1)\n",
    "            ans=clf.predict(test_feature)\n",
    "            if(ans[0]):\n",
    "               cv2.rectangle(frame, (x, y), (x + w, y + h), (0, 255, 0), 2)\n",
    "            else:\n",
    "                cv2.rectangle(frame,(x,y),(x+w,y+h),(255,0,0),2)\n",
    "        vwriter.write(frame)\n",
    "        cv2.imshow('frame',frame)\n",
    "        cv2.waitKey(10)\n",
    "    else:\n",
    "        vwriter.release()\n",
    "cap.release()\n"
   ]
  }
 ],
 "metadata": {
  "kernelspec": {
   "display_name": "Python 3",
   "language": "python",
   "name": "python3"
  },
  "language_info": {
   "codemirror_mode": {
    "name": "ipython",
    "version": 3
   },
   "file_extension": ".py",
   "mimetype": "text/x-python",
   "name": "python",
   "nbconvert_exporter": "python",
   "pygments_lexer": "ipython3",
   "version": "3.10.9"
  },
  "orig_nbformat": 4
 },
 "nbformat": 4,
 "nbformat_minor": 2
}
